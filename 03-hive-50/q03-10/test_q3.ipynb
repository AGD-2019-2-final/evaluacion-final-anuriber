{
 "cells": [
  {
   "cell_type": "code",
   "execution_count": 1,
   "metadata": {},
   "outputs": [],
   "source": [
    "%load_ext bigdata\n",
    "%hive_start\n",
    "%timeout 300"
   ]
  },
  {
   "cell_type": "code",
   "execution_count": 2,
   "metadata": {},
   "outputs": [
    {
     "name": "stdout",
     "output_type": "stream",
     "text": [
      "DROP TABLE IF EXISTS docs;\n",
      "OK\n",
      "Time taken: 12.911 seconds\n",
      "CREATE TABLE docs (line STRING);\n",
      "OK\n",
      "Time taken: 0.738 seconds\n",
      "LOAD DATA LOCAL INPATH \"data.tsv\" OVERWRITE INTO TABLE docs;\n",
      "Loading data to table default.docs\n",
      "OK\n",
      "Time taken: 1.484 seconds\n"
     ]
    }
   ],
   "source": [
    "%%hive\n",
    "DROP TABLE IF EXISTS docs;\n",
    "CREATE TABLE docs (line STRING);\n",
    "LOAD DATA LOCAL INPATH \"data.tsv\" OVERWRITE INTO TABLE docs;"
   ]
  },
  {
   "cell_type": "code",
   "execution_count": 3,
   "metadata": {},
   "outputs": [
    {
     "name": "stdout",
     "output_type": "stream",
     "text": [
      "SELECT * FROM docs;\n",
      "OK\n",
      "B\t1999-08-28\t14\n",
      "E\t1999-12-06\t12\n",
      "E\t1993-07-21\t17\n",
      "C\t1991-02-12\t13\n",
      "E\t1995-04-25\t16\n",
      "A\t1992-08-22\t14\n",
      "B\t1999-06-11\t12\n",
      "E\t1993-01-27\t13\n",
      "E\t1999-09-10\t11\n",
      "E\t1990-05-03\t16\n",
      "E\t1994-02-14\t5\n",
      "A\t1988-04-27\t12\n",
      "A\t1990-10-06\t10\n",
      "E\t1985-02-12\t16\n",
      "E\t1998-09-14\t16\n",
      "B\t1994-08-30\t17\n",
      "A\t1997-12-15\t13\n",
      "B\t1995-08-23\t10\n",
      "B\t1998-11-22\t13\n",
      "B\t1997-04-09\t14\n",
      "E\t1993-12-27\t18\n",
      "E\t1999-01-14\t15\n",
      "A\t1992-09-19\t18\n",
      "B\t1993-03-02\t14\n",
      "B\t1999-10-21\t13\n",
      "A\t1990-08-31\t12\n",
      "C\t1994-01-25\t6\n",
      "E\t1990-02-09\t18\n",
      "A\t1990-09-26\t14\n",
      "A\t1993-05-08\t16\n",
      "B\t1995-09-06\t14\n",
      "E\t1991-02-18\t14\n",
      "A\t1993-01-11\t14\n",
      "A\t1990-07-22\t18\n",
      "C\t1994-09-09\t15\n",
      "C\t1994-07-27\t7\n",
      "D\t1990-10-10\t15\n",
      "A\t1990-09-05\t11\n",
      "B\t1991-10-01\t15\n",
      "A\t1994-10-25\t13\n",
      "Time taken: 1.667 seconds, Fetched: 40 row(s)\n"
     ]
    }
   ],
   "source": [
    "%%hive\n",
    "SELECT * FROM docs;"
   ]
  },
  {
   "cell_type": "code",
   "execution_count": 23,
   "metadata": {},
   "outputs": [
    {
     "name": "stdout",
     "output_type": "stream",
     "text": [
      "DROP TABLE IF EXISTS dataTable; \n",
      "OK\n",
      "Time taken: 0.352 seconds\n",
      "CREATE TABLE dataTable (letra STRING, fecha STRING, valor STRING);\n",
      "OK\n",
      "Time taken: 0.037 seconds\n",
      "INSERT OVERWRITE TABLE dataTable \n",
      "SELECT \n",
      "    regexp_extract(line, '^(?:([^\\t]*)\\t?){1}', 1) AS letra, \n",
      "    regexp_extract(line, '^(?:([^\\t]*)\\t?){2}', 1) AS fecha, \n",
      "    regexp_extract(line, '^(?:([^\\t]*)\\t?){3}', 1) AS valor\n",
      "FROM\n",
      "    docs;\n",
      "WARNING: Hive-on-MR is deprecated in Hive 2 and may not be available in the future versions. Consider using a different execution engine (i.e. spark, tez) or using Hive 1.X releases.\n",
      "Query ID = root_20200227171031_91ddb02b-5cab-4c14-9ad2-d61477a5b511\n",
      "Total jobs = 3\n",
      "Launching Job 1 out of 3\n",
      "Number of reduce tasks is set to 0 since there's no reduce operator\n",
      "Starting Job = job_1582805926759_0044, Tracking URL = http://6f00cce67c14:8088/proxy/application_1582805926759_0044/\n",
      "Kill Command = /usr/local/hadoop/bin/hadoop job  -kill job_1582805926759_0044\n",
      "Hadoop job information for Stage-1: number of mappers: 1; number of reducers: 0\n",
      "2020-02-27 17:10:40,405 Stage-1 map = 0%,  reduce = 0%\n",
      "2020-02-27 17:10:45,882 Stage-1 map = 100%,  reduce = 0%, Cumulative CPU 2.77 sec\n",
      "MapReduce Total cumulative CPU time: 2 seconds 770 msec\n",
      "Ended Job = job_1582805926759_0044\n",
      "Stage-4 is selected by condition resolver.\n",
      "Stage-3 is filtered out by condition resolver.\n",
      "Stage-5 is filtered out by condition resolver.\n",
      "Moving data to directory hdfs://0.0.0.0:9000/user/hive/warehouse/datatable/.hive-staging_hive_2020-02-27_17-10-31_090_4257221313432107655-1/-ext-10000\n",
      "Loading data to table default.datatable\n",
      "MapReduce Jobs Launched: \n",
      "Stage-Stage-1: Map: 1   Cumulative CPU: 2.77 sec   HDFS Read: 4799 HDFS Write: 711 SUCCESS\n",
      "Total MapReduce CPU Time Spent: 2 seconds 770 msec\n",
      "OK\n",
      "Time taken: 16.601 seconds\n"
     ]
    }
   ],
   "source": [
    "%%hive \n",
    "DROP TABLE IF EXISTS dataTable; \n",
    "\n",
    "CREATE TABLE dataTable (letra STRING, fecha STRING, valor STRING);\n",
    "\n",
    "INSERT OVERWRITE TABLE dataTable \n",
    "SELECT \n",
    "    regexp_extract(line, '^(?:([^\\t]*)\\t?){1}', 1) AS letra, \n",
    "    regexp_extract(line, '^(?:([^\\t]*)\\t?){2}', 1) AS fecha, \n",
    "    regexp_extract(line, '^(?:([^\\t]*)\\t?){3}', 1) AS valor\n",
    "FROM\n",
    "    docs;"
   ]
  },
  {
   "cell_type": "code",
   "execution_count": 48,
   "metadata": {},
   "outputs": [
    {
     "name": "stdout",
     "output_type": "stream",
     "text": [
      "DROP TABLE IF EXISTS testTable; \n",
      "OK\n",
      "Time taken: 0.052 seconds\n",
      "CREATE TABLE testTable (numero INT);\n",
      "OK\n",
      "Time taken: 0.051 seconds\n",
      "INSERT OVERWRITE TABLE testTable \n",
      "SELECT \n",
      "    CAST(valor AS INT) AS numero\n",
      "FROM\n",
      "    dataTable;\n",
      "WARNING: Hive-on-MR is deprecated in Hive 2 and may not be available in the future versions. Consider using a different execution engine (i.e. spark, tez) or using Hive 1.X releases.\n",
      "Query ID = root_20200227173205_c688aca5-0c37-4f20-a25a-95e51c3a76de\n",
      "Total jobs = 3\n",
      "Launching Job 1 out of 3\n",
      "Number of reduce tasks is set to 0 since there's no reduce operator\n",
      "Starting Job = job_1582805926759_0056, Tracking URL = http://6f00cce67c14:8088/proxy/application_1582805926759_0056/\n",
      "Kill Command = /usr/local/hadoop/bin/hadoop job  -kill job_1582805926759_0056\n",
      "Hadoop job information for Stage-1: number of mappers: 1; number of reducers: 0\n",
      "2020-02-27 17:32:14,105 Stage-1 map = 0%,  reduce = 0%\n",
      "2020-02-27 17:32:19,766 Stage-1 map = 100%,  reduce = 0%, Cumulative CPU 2.63 sec\n",
      "MapReduce Total cumulative CPU time: 2 seconds 630 msec\n",
      "Ended Job = job_1582805926759_0056\n",
      "Stage-4 is selected by condition resolver.\n",
      "Stage-3 is filtered out by condition resolver.\n",
      "Stage-5 is filtered out by condition resolver.\n",
      "Moving data to directory hdfs://0.0.0.0:9000/user/hive/warehouse/testtable/.hive-staging_hive_2020-02-27_17-32-05_380_4309623158718569802-1/-ext-10000\n",
      "Loading data to table default.testtable\n",
      "MapReduce Jobs Launched: \n",
      "Stage-Stage-1: Map: 1   Cumulative CPU: 2.63 sec   HDFS Read: 4604 HDFS Write: 190 SUCCESS\n",
      "Total MapReduce CPU Time Spent: 2 seconds 630 msec\n",
      "OK\n",
      "Time taken: 16.067 seconds\n"
     ]
    }
   ],
   "source": [
    "%%hive \n",
    "DROP TABLE IF EXISTS testTable; \n",
    "\n",
    "CREATE TABLE testTable (numero INT);\n",
    "\n",
    "INSERT OVERWRITE TABLE testTable \n",
    "SELECT \n",
    "    CAST(valor AS INT) AS numero\n",
    "FROM\n",
    "    dataTable;"
   ]
  },
  {
   "cell_type": "code",
   "execution_count": 49,
   "metadata": {},
   "outputs": [
    {
     "name": "stdout",
     "output_type": "stream",
     "text": [
      "SELECT numero FROM testTable GROUP BY numero ORDER BY numero LIMIT 5;\n",
      "WARNING: Hive-on-MR is deprecated in Hive 2 and may not be available in the future versions. Consider using a different execution engine (i.e. spark, tez) or using Hive 1.X releases.\n",
      "Query ID = root_20200227173226_28070721-826f-4435-8893-dd2e4e08a719\n",
      "Total jobs = 2\n",
      "Launching Job 1 out of 2\n",
      "Number of reduce tasks not specified. Estimated from input data size: 1\n",
      "In order to change the average load for a reducer (in bytes):\n",
      "  set hive.exec.reducers.bytes.per.reducer=<number>\n",
      "In order to limit the maximum number of reducers:\n",
      "  set hive.exec.reducers.max=<number>\n",
      "In order to set a constant number of reducers:\n",
      "  set mapreduce.job.reduces=<number>\n",
      "Starting Job = job_1582805926759_0057, Tracking URL = http://6f00cce67c14:8088/proxy/application_1582805926759_0057/\n",
      "Kill Command = /usr/local/hadoop/bin/hadoop job  -kill job_1582805926759_0057\n",
      "Hadoop job information for Stage-1: number of mappers: 1; number of reducers: 1\n",
      "2020-02-27 17:32:34,193 Stage-1 map = 0%,  reduce = 0%\n",
      "2020-02-27 17:32:39,738 Stage-1 map = 100%,  reduce = 0%, Cumulative CPU 1.67 sec\n",
      "2020-02-27 17:32:47,032 Stage-1 map = 100%,  reduce = 100%, Cumulative CPU 3.69 sec\n",
      "MapReduce Total cumulative CPU time: 3 seconds 690 msec\n",
      "Ended Job = job_1582805926759_0057\n",
      "Launching Job 2 out of 2\n",
      "Number of reduce tasks determined at compile time: 1\n",
      "In order to change the average load for a reducer (in bytes):\n",
      "  set hive.exec.reducers.bytes.per.reducer=<number>\n",
      "In order to limit the maximum number of reducers:\n",
      "  set hive.exec.reducers.max=<number>\n",
      "In order to set a constant number of reducers:\n",
      "  set mapreduce.job.reduces=<number>\n",
      "Starting Job = job_1582805926759_0058, Tracking URL = http://6f00cce67c14:8088/proxy/application_1582805926759_0058/\n",
      "Kill Command = /usr/local/hadoop/bin/hadoop job  -kill job_1582805926759_0058\n",
      "Hadoop job information for Stage-2: number of mappers: 1; number of reducers: 1\n",
      "2020-02-27 17:33:00,135 Stage-2 map = 0%,  reduce = 0%\n",
      "2020-02-27 17:33:05,629 Stage-2 map = 100%,  reduce = 0%, Cumulative CPU 1.51 sec\n",
      "2020-02-27 17:33:12,193 Stage-2 map = 100%,  reduce = 100%, Cumulative CPU 3.31 sec\n",
      "MapReduce Total cumulative CPU time: 3 seconds 310 msec\n",
      "Ended Job = job_1582805926759_0058\n",
      "MapReduce Jobs Launched: \n",
      "Stage-Stage-1: Map: 1  Reduce: 1   Cumulative CPU: 3.69 sec   HDFS Read: 6614 HDFS Write: 186 SUCCESS\n",
      "Stage-Stage-2: Map: 1  Reduce: 1   Cumulative CPU: 3.31 sec   HDFS Read: 5172 HDFS Write: 159 SUCCESS\n",
      "Total MapReduce CPU Time Spent: 7 seconds 0 msec\n",
      "OK\n",
      "5\n",
      "6\n",
      "7\n",
      "10\n",
      "11\n",
      "Time taken: 47.131 seconds, Fetched: 5 row(s)\n"
     ]
    }
   ],
   "source": [
    "%%hive \n",
    "SELECT numero FROM testTable GROUP BY numero ORDER BY numero LIMIT 5;"
   ]
  },
  {
   "cell_type": "code",
   "execution_count": null,
   "metadata": {},
   "outputs": [],
   "source": [
    "%hive_quit"
   ]
  },
  {
   "cell_type": "code",
   "execution_count": 65,
   "metadata": {},
   "outputs": [
    {
     "name": "stdout",
     "output_type": "stream",
     "text": [
      "Found 4 items\n",
      "drwxrwx---   - root supergroup          0 2020-02-27 12:19 /tmp/hadoop-yarn\n",
      "drwxrwxrwx   - root supergroup          0 2020-02-27 15:21 /tmp/hive\n",
      "drwxrwxrwx   - root supergroup          0 2020-02-27 16:38 /tmp/output\n",
      "drwxr-xr-x   - root supergroup          0 2020-02-27 16:27 /tmp/wordcount\n"
     ]
    }
   ],
   "source": [
    "## Copia Archivos a sistema HDFS\n",
    "##\n",
    "## Se usan un directorio temporal en el HDFS. La siguiente\n",
    "## instrucción muestra el contenido del dicho directorio\n",
    "##\n",
    "!hdfs dfs -ls /tmp"
   ]
  },
  {
   "cell_type": "code",
   "execution_count": 66,
   "metadata": {},
   "outputs": [
    {
     "name": "stdout",
     "output_type": "stream",
     "text": [
      "mkdir: `/tmp/wordcount': File exists\n"
     ]
    }
   ],
   "source": [
    "## Crea la carpeta wordcount en el hdfs\n",
    "##\n",
    "!hdfs dfs -mkdir /tmp/wordcount"
   ]
  },
  {
   "cell_type": "code",
   "execution_count": 67,
   "metadata": {},
   "outputs": [
    {
     "name": "stdout",
     "output_type": "stream",
     "text": [
      "Found 4 items\n",
      "drwxrwx---   - root supergroup          0 2020-02-27 12:19 /tmp/hadoop-yarn\n",
      "drwxrwxrwx   - root supergroup          0 2020-02-27 15:21 /tmp/hive\n",
      "drwxrwxrwx   - root supergroup          0 2020-02-27 16:38 /tmp/output\n",
      "drwxr-xr-x   - root supergroup          0 2020-02-27 16:27 /tmp/wordcount\n"
     ]
    }
   ],
   "source": [
    "## Verifica la creación de la carpeta\n",
    "##\n",
    "!hdfs dfs -ls /tmp/"
   ]
  },
  {
   "cell_type": "code",
   "execution_count": 68,
   "metadata": {},
   "outputs": [
    {
     "name": "stdout",
     "output_type": "stream",
     "text": [
      "copyFromLocal: `/tmp/wordcount/data.tsv': File exists\n"
     ]
    }
   ],
   "source": [
    "## Copia los archvios del directorio local wordcount/\n",
    "## al directorio /tmp/wordcount/ en el hdfs\n",
    "##\n",
    "!hdfs dfs -copyFromLocal 'data.tsv'  /tmp/wordcount/"
   ]
  },
  {
   "cell_type": "code",
   "execution_count": 69,
   "metadata": {},
   "outputs": [
    {
     "name": "stdout",
     "output_type": "stream",
     "text": [
      "Found 1 items\n",
      "-rw-r--r--   1 root supergroup        677 2020-02-27 16:27 /tmp/wordcount/data.tsv\n"
     ]
    }
   ],
   "source": [
    "##\n",
    "## Verifica que los archivos esten copiados\n",
    "## en el hdfs\n",
    "##\n",
    "!hdfs dfs -ls /tmp/wordcount"
   ]
  },
  {
   "cell_type": "code",
   "execution_count": 70,
   "metadata": {},
   "outputs": [],
   "source": [
    "####################################################################################################################\n",
    "## Generación del script y ajuste del código"
   ]
  },
  {
   "cell_type": "code",
   "execution_count": 71,
   "metadata": {},
   "outputs": [
    {
     "name": "stdout",
     "output_type": "stream",
     "text": [
      "Overwriting wordcount.hql\n"
     ]
    }
   ],
   "source": [
    "%%writefile wordcount.hql\n",
    "\n",
    "DROP TABLE IF EXISTS docs;\n",
    "DROP TABLE IF EXISTS dataTable;\n",
    "DROP TABLE IF EXISTS testTable; \n",
    "\n",
    "CREATE TABLE docs (line STRING);\n",
    "LOAD DATA INPATH \"/tmp/wordcount/*\" OVERWRITE INTO TABLE docs;\n",
    "\n",
    "CREATE TABLE dataTable (letra STRING, fecha STRING, valor STRING);\n",
    "\n",
    "INSERT OVERWRITE TABLE dataTable \n",
    "SELECT \n",
    "    regexp_extract(line, '^(?:([^\\t]*)\\t?){1}', 1) AS letra, \n",
    "    regexp_extract(line, '^(?:([^\\t]*)\\t?){2}', 1) AS fecha, \n",
    "    regexp_extract(line, '^(?:([^\\t]*)\\t?){3}', 1) AS valor\n",
    "FROM\n",
    "    docs;\n",
    "    \n",
    "\n",
    "\n",
    "CREATE TABLE testTable (numero INT);\n",
    "\n",
    "INSERT OVERWRITE TABLE testTable \n",
    "SELECT \n",
    "    CAST(valor AS INT) AS numero\n",
    "FROM\n",
    "    dataTable;\n",
    "\n",
    "INSERT OVERWRITE DIRECTORY '/tmp/output'\n",
    "ROW FORMAT DELIMITED FIELDS TERMINATED BY ','\n",
    "\n",
    "SELECT numero FROM testTable GROUP BY numero ORDER BY numero LIMIT 5;"
   ]
  },
  {
   "cell_type": "code",
   "execution_count": 72,
   "metadata": {},
   "outputs": [
    {
     "name": "stdout",
     "output_type": "stream",
     "text": [
      "SLF4J: Class path contains multiple SLF4J bindings.\n",
      "SLF4J: Found binding in [jar:file:/usr/local/hive/lib/log4j-slf4j-impl-2.6.2.jar!/org/slf4j/impl/StaticLoggerBinder.class]\n",
      "SLF4J: Found binding in [jar:file:/usr/local/hadoop/share/hadoop/common/lib/slf4j-log4j12-1.7.10.jar!/org/slf4j/impl/StaticLoggerBinder.class]\n",
      "SLF4J: See http://www.slf4j.org/codes.html#multiple_bindings for an explanation.\n",
      "SLF4J: Actual binding is of type [org.apache.logging.slf4j.Log4jLoggerFactory]\n"
     ]
    }
   ],
   "source": [
    "## Ejecucion\n",
    "!hive -S -e 'source wordcount.hql'"
   ]
  },
  {
   "cell_type": "code",
   "execution_count": 73,
   "metadata": {},
   "outputs": [
    {
     "name": "stdout",
     "output_type": "stream",
     "text": [
      "output/000000_0\n"
     ]
    }
   ],
   "source": [
    "## Copia de los resultados a la maquina local (vagrant)\n",
    "!hadoop fs -copyToLocal /tmp/output output\n",
    "!ls output/*"
   ]
  },
  {
   "cell_type": "code",
   "execution_count": 74,
   "metadata": {},
   "outputs": [
    {
     "name": "stdout",
     "output_type": "stream",
     "text": [
      "5\n",
      "6\n",
      "7\n",
      "10\n",
      "11\n"
     ]
    }
   ],
   "source": [
    "!cat output/000000_0 | head"
   ]
  },
  {
   "cell_type": "code",
   "execution_count": null,
   "metadata": {},
   "outputs": [],
   "source": []
  },
  {
   "cell_type": "code",
   "execution_count": null,
   "metadata": {},
   "outputs": [],
   "source": []
  },
  {
   "cell_type": "code",
   "execution_count": null,
   "metadata": {},
   "outputs": [],
   "source": []
  }
 ],
 "metadata": {
  "kernelspec": {
   "display_name": "Python 3",
   "language": "python",
   "name": "python3"
  },
  "language_info": {
   "codemirror_mode": {
    "name": "ipython",
    "version": 3
   },
   "file_extension": ".py",
   "mimetype": "text/x-python",
   "name": "python",
   "nbconvert_exporter": "python",
   "pygments_lexer": "ipython3",
   "version": "3.6.9"
  }
 },
 "nbformat": 4,
 "nbformat_minor": 4
}
