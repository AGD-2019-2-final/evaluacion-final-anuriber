{
 "cells": [
  {
   "cell_type": "code",
   "execution_count": 1,
   "metadata": {},
   "outputs": [],
   "source": [
    "%load_ext bigdata\n",
    "%hive_start\n",
    "%timeout 300"
   ]
  },
  {
   "cell_type": "code",
   "execution_count": 2,
   "metadata": {},
   "outputs": [
    {
     "name": "stdout",
     "output_type": "stream",
     "text": [
      "DROP TABLE IF EXISTS tbl0;\n",
      "OK\n",
      "Time taken: 11.752 seconds\n",
      "CREATE TABLE tbl0 (\n",
      "    c1 INT,\n",
      "    c2 STRING,\n",
      "    c3 INT,\n",
      "    c4 DATE,\n",
      "    c5 ARRAY<CHAR(1)>, \n",
      "    c6 MAP<STRING, INT>\n",
      ")\n",
      "ROW FORMAT DELIMITED \n",
      "FIELDS TERMINATED BY ','\n",
      "COLLECTION ITEMS TERMINATED BY ':'\n",
      "MAP KEYS TERMINATED BY '#'\n",
      "LINES TERMINATED BY '\\n';\n",
      "OK\n",
      "Time taken: 1.2 seconds\n",
      "LOAD DATA LOCAL INPATH 'tbl0.csv' INTO TABLE tbl0;\n",
      "Loading data to table default.tbl0\n",
      "OK\n",
      "Time taken: 2.152 seconds\n",
      "--\n",
      "DROP TABLE IF EXISTS tbl1;\n",
      "OK\n",
      "Time taken: 0.009 seconds\n",
      "CREATE TABLE tbl1 (\n",
      "    c1 INT,\n",
      "    c2 INT,\n",
      "    c3 STRING,\n",
      "    c4 MAP<STRING, INT>\n",
      ")\n",
      "ROW FORMAT DELIMITED \n",
      "FIELDS TERMINATED BY ','\n",
      "COLLECTION ITEMS TERMINATED BY ':'\n",
      "MAP KEYS TERMINATED BY '#'\n",
      "LINES TERMINATED BY '\\n';\n",
      "OK\n",
      "Time taken: 0.075 seconds\n",
      "LOAD DATA LOCAL INPATH 'tbl1.csv' INTO TABLE tbl1;\n",
      "Loading data to table default.tbl1\n",
      "OK\n",
      "Time taken: 0.928 seconds\n"
     ]
    }
   ],
   "source": [
    "%%hive\n",
    "DROP TABLE IF EXISTS tbl0;\n",
    "CREATE TABLE tbl0 (\n",
    "    c1 INT,\n",
    "    c2 STRING,\n",
    "    c3 INT,\n",
    "    c4 DATE,\n",
    "    c5 ARRAY<CHAR(1)>, \n",
    "    c6 MAP<STRING, INT>\n",
    ")\n",
    "ROW FORMAT DELIMITED \n",
    "FIELDS TERMINATED BY ','\n",
    "COLLECTION ITEMS TERMINATED BY ':'\n",
    "MAP KEYS TERMINATED BY '#'\n",
    "LINES TERMINATED BY '\\n';\n",
    "LOAD DATA LOCAL INPATH 'tbl0.csv' INTO TABLE tbl0;\n",
    "--\n",
    "DROP TABLE IF EXISTS tbl1;\n",
    "CREATE TABLE tbl1 (\n",
    "    c1 INT,\n",
    "    c2 INT,\n",
    "    c3 STRING,\n",
    "    c4 MAP<STRING, INT>\n",
    ")\n",
    "ROW FORMAT DELIMITED \n",
    "FIELDS TERMINATED BY ','\n",
    "COLLECTION ITEMS TERMINATED BY ':'\n",
    "MAP KEYS TERMINATED BY '#'\n",
    "LINES TERMINATED BY '\\n';\n",
    "LOAD DATA LOCAL INPATH 'tbl1.csv' INTO TABLE tbl1;"
   ]
  },
  {
   "cell_type": "code",
   "execution_count": 3,
   "metadata": {},
   "outputs": [
    {
     "name": "stdout",
     "output_type": "stream",
     "text": [
      "SELECT * FROM tbl0;\n",
      "OK\n",
      "1\tD\t4\t2016-06-25\t[\"a\",\"e\",\"c\",\"d\"]\t{\"bb\":10,\"dd\":20,\"cc\":40}\n",
      "2\tC\t4\t2015-05-14\t[\"a\",\"c\"]\t{\"dd\":40,\"bb\":20,\"cc\":10}\n",
      "3\tD\t6\t2014-12-26\t[\"b\",\"d\"]\t{\"aa\":10,\"bb\":40}\n",
      "4\tD\t5\t2016-06-25\t[\"a\",\"c\",\"e\",\"b\",\"d\"]\t{\"bb\":40,\"dd\":20,\"aa\":10,\"cc\":30}\n",
      "5\tC\t7\t2016-05-23\t[\"d\",\"e\",\"c\"]\t{\"cc\":10,\"aa\":20}\n",
      "6\tA\t2\t2018-06-14\t[\"a\",\"d\"]\t{\"aa\":20}\n",
      "7\tB\t3\t2014-12-22\t[\"a\",\"e\",\"d\"]\t{\"cc\":20}\n",
      "8\tC\t6\t2015-08-20\t[\"d\",\"a\",\"c\",\"e\"]\t{\"cc\":10,\"aa\":20}\n",
      "9\tB\t3\t2017-12-08\t[\"b\",\"a\",\"c\",\"e\"]\t{\"cc\":40,\"dd\":10,\"aa\":30,\"bb\":20}\n",
      "10\tB\t7\t2015-07-28\t[\"c\",\"d\",\"e\",\"a\",\"b\"]\t{\"aa\":10,\"dd\":40,\"cc\":30}\n",
      "Time taken: 2.319 seconds, Fetched: 10 row(s)\n"
     ]
    }
   ],
   "source": [
    "%%hive \n",
    "SELECT * FROM tbl0;"
   ]
  },
  {
   "cell_type": "code",
   "execution_count": 4,
   "metadata": {},
   "outputs": [
    {
     "name": "stdout",
     "output_type": "stream",
     "text": [
      "SELECT c5 FROM tbl0;\n",
      "OK\n",
      "[\"a\",\"e\",\"c\",\"d\"]\n",
      "[\"a\",\"c\"]\n",
      "[\"b\",\"d\"]\n",
      "[\"a\",\"c\",\"e\",\"b\",\"d\"]\n",
      "[\"d\",\"e\",\"c\"]\n",
      "[\"a\",\"d\"]\n",
      "[\"a\",\"e\",\"d\"]\n",
      "[\"d\",\"a\",\"c\",\"e\"]\n",
      "[\"b\",\"a\",\"c\",\"e\"]\n",
      "[\"c\",\"d\",\"e\",\"a\",\"b\"]\n",
      "Time taken: 0.223 seconds, Fetched: 10 row(s)\n"
     ]
    }
   ],
   "source": [
    "%%hive \n",
    "SELECT c5 FROM tbl0;"
   ]
  },
  {
   "cell_type": "code",
   "execution_count": 5,
   "metadata": {},
   "outputs": [
    {
     "name": "stdout",
     "output_type": "stream",
     "text": [
      "SELECT c4 FROM tbl0;\n",
      "OK\n",
      "2016-06-25\n",
      "2015-05-14\n",
      "2014-12-26\n",
      "2016-06-25\n",
      "2016-05-23\n",
      "2018-06-14\n",
      "2014-12-22\n",
      "2015-08-20\n",
      "2017-12-08\n",
      "2015-07-28\n",
      "Time taken: 0.214 seconds, Fetched: 10 row(s)\n"
     ]
    }
   ],
   "source": [
    "%%hive \n",
    "SELECT c4 FROM tbl0;"
   ]
  },
  {
   "cell_type": "code",
   "execution_count": 6,
   "metadata": {},
   "outputs": [
    {
     "name": "stdout",
     "output_type": "stream",
     "text": [
      "SELECT explode(c5) AS word FROM tbl0;\n",
      "OK\n",
      "a\n",
      "e\n",
      "c\n",
      "d\n",
      "a\n",
      "c\n",
      "b\n",
      "d\n",
      "a\n",
      "c\n",
      "e\n",
      "b\n",
      "d\n",
      "d\n",
      "e\n",
      "c\n",
      "a\n",
      "d\n",
      "a\n",
      "e\n",
      "d\n",
      "d\n",
      "a\n",
      "c\n",
      "e\n",
      "b\n",
      "a\n",
      "c\n",
      "e\n",
      "c\n",
      "d\n",
      "e\n",
      "a\n",
      "b\n",
      "Time taken: 0.425 seconds, Fetched: 34 row(s)\n"
     ]
    }
   ],
   "source": [
    "%%hive\n",
    "SELECT explode(c5) AS word FROM tbl0;"
   ]
  },
  {
   "cell_type": "code",
   "execution_count": 7,
   "metadata": {},
   "outputs": [
    {
     "name": "stdout",
     "output_type": "stream",
     "text": [
      "SELECT SUBSTR(c4, 1, 4) AS word FROM tbl0;\n",
      "OK\n",
      "2016\n",
      "2015\n",
      "2014\n",
      "2016\n",
      "2016\n",
      "2018\n",
      "2014\n",
      "2015\n",
      "2017\n",
      "2015\n",
      "Time taken: 0.253 seconds, Fetched: 10 row(s)\n"
     ]
    }
   ],
   "source": [
    "%%hive\n",
    "SELECT SUBSTR(c4, 1, 4) AS word FROM tbl0;"
   ]
  },
  {
   "cell_type": "code",
   "execution_count": 8,
   "metadata": {},
   "outputs": [
    {
     "name": "stdout",
     "output_type": "stream",
     "text": [
      "DROP TABLE IF EXISTS dataTable; \n",
      "OK\n",
      "Time taken: 0.009 seconds\n",
      "CREATE TABLE dataTable (fecha STRING, letra ARRAY<CHAR(1)>);\n",
      "OK\n",
      "Time taken: 0.127 seconds\n",
      "INSERT OVERWRITE TABLE dataTable \n",
      "SELECT \n",
      "    SUBSTR(c4, 1, 4) AS fecha,\n",
      "    c5 AS letra\n",
      "FROM\n",
      "    tbl0;\n",
      "WARNING: Hive-on-MR is deprecated in Hive 2 and may not be available in the future versions. Consider using a different execution engine (i.e. spark, tez) or using Hive 1.X releases.\n",
      "Query ID = root_20200228004923_476ce08b-0307-4fe7-a951-6c04e95b294d\n",
      "Total jobs = 3\n",
      "Launching Job 1 out of 3\n",
      "Number of reduce tasks is set to 0 since there's no reduce operator\n",
      "Starting Job = job_1582850386869_0001, Tracking URL = http://77b0213d6cab:8088/proxy/application_1582850386869_0001/\n",
      "Kill Command = /usr/local/hadoop/bin/hadoop job  -kill job_1582850386869_0001\n",
      "Hadoop job information for Stage-1: number of mappers: 1; number of reducers: 0\n",
      "2020-02-28 00:49:39,389 Stage-1 map = 0%,  reduce = 0%\n",
      "2020-02-28 00:49:46,304 Stage-1 map = 100%,  reduce = 0%, Cumulative CPU 3.27 sec\n",
      "MapReduce Total cumulative CPU time: 3 seconds 270 msec\n",
      "Ended Job = job_1582850386869_0001\n",
      "Stage-4 is selected by condition resolver.\n",
      "Stage-3 is filtered out by condition resolver.\n",
      "Stage-5 is filtered out by condition resolver.\n",
      "Moving data to directory hdfs://0.0.0.0:9000/user/hive/warehouse/datatable/.hive-staging_hive_2020-02-28_00-49-23_885_3142101908173379883-1/-ext-10000\n",
      "Loading data to table default.datatable\n",
      "MapReduce Jobs Launched: \n",
      "Stage-Stage-1: Map: 1   Cumulative CPU: 3.27 sec   HDFS Read: 5176 HDFS Write: 192 SUCCESS\n",
      "Total MapReduce CPU Time Spent: 3 seconds 270 msec\n",
      "OK\n",
      "Time taken: 25.396 seconds\n"
     ]
    }
   ],
   "source": [
    "%%hive \n",
    "DROP TABLE IF EXISTS dataTable; \n",
    "\n",
    "CREATE TABLE dataTable (fecha STRING, letra ARRAY<CHAR(1)>);\n",
    "\n",
    "INSERT OVERWRITE TABLE dataTable \n",
    "SELECT \n",
    "    SUBSTR(c4, 1, 4) AS fecha,\n",
    "    c5 AS letra\n",
    "FROM\n",
    "    tbl0;"
   ]
  },
  {
   "cell_type": "code",
   "execution_count": 9,
   "metadata": {},
   "outputs": [
    {
     "name": "stdout",
     "output_type": "stream",
     "text": [
      "SELECT * FROM dataTable ORDER BY fecha;\n",
      "WARNING: Hive-on-MR is deprecated in Hive 2 and may not be available in the future versions. Consider using a different execution engine (i.e. spark, tez) or using Hive 1.X releases.\n",
      "Query ID = root_20200228004955_ffc37d21-d5a9-4bdf-b870-5ea7abf792a4\n",
      "Total jobs = 1\n",
      "Launching Job 1 out of 1\n",
      "Number of reduce tasks determined at compile time: 1\n",
      "In order to change the average load for a reducer (in bytes):\n",
      "  set hive.exec.reducers.bytes.per.reducer=<number>\n",
      "In order to limit the maximum number of reducers:\n",
      "  set hive.exec.reducers.max=<number>\n",
      "In order to set a constant number of reducers:\n",
      "  set mapreduce.job.reduces=<number>\n",
      "Starting Job = job_1582850386869_0002, Tracking URL = http://77b0213d6cab:8088/proxy/application_1582850386869_0002/\n",
      "Kill Command = /usr/local/hadoop/bin/hadoop job  -kill job_1582850386869_0002\n",
      "Hadoop job information for Stage-1: number of mappers: 1; number of reducers: 1\n",
      "2020-02-28 00:50:04,559 Stage-1 map = 0%,  reduce = 0%\n",
      "2020-02-28 00:50:11,383 Stage-1 map = 100%,  reduce = 0%, Cumulative CPU 2.43 sec\n",
      "2020-02-28 00:50:18,055 Stage-1 map = 100%,  reduce = 100%, Cumulative CPU 4.79 sec\n",
      "MapReduce Total cumulative CPU time: 4 seconds 790 msec\n",
      "Ended Job = job_1582850386869_0002\n",
      "MapReduce Jobs Launched: \n",
      "Stage-Stage-1: Map: 1  Reduce: 1   Cumulative CPU: 4.79 sec   HDFS Read: 7811 HDFS Write: 325 SUCCESS\n",
      "Total MapReduce CPU Time Spent: 4 seconds 790 msec\n",
      "OK\n",
      "2014\t[\"a\",\"e\",\"d\"]\n",
      "2014\t[\"b\",\"d\"]\n",
      "2015\t[\"c\",\"d\",\"e\",\"a\",\"b\"]\n",
      "2015\t[\"d\",\"a\",\"c\",\"e\"]\n",
      "2015\t[\"a\",\"c\"]\n",
      "2016\t[\"d\",\"e\",\"c\"]\n",
      "2016\t[\"a\",\"c\",\"e\",\"b\",\"d\"]\n",
      "2016\t[\"a\",\"e\",\"c\",\"d\"]\n",
      "2017\t[\"b\",\"a\",\"c\",\"e\"]\n",
      "2018\t[\"a\",\"d\"]\n",
      "Time taken: 25.148 seconds, Fetched: 10 row(s)\n"
     ]
    }
   ],
   "source": [
    "%%hive \n",
    "SELECT * FROM dataTable ORDER BY fecha;"
   ]
  },
  {
   "cell_type": "code",
   "execution_count": 18,
   "metadata": {},
   "outputs": [
    {
     "name": "stdout",
     "output_type": "stream",
     "text": [
      "SELECT\n",
      "    fecha,\n",
      "    let\n",
      "FROM\n",
      "    dataTable\n",
      "LATERAL VIEW\n",
      "    explode(letra) dataTable AS let\n",
      "LIMIT 10;\n",
      "OK\n",
      "2016\ta\n",
      "2016\te\n",
      "2016\tc\n",
      "2016\td\n",
      "2015\ta\n",
      "2015\tc\n",
      "2014\tb\n",
      "2014\td\n",
      "2016\ta\n",
      "2016\tc\n",
      "Time taken: 0.068 seconds, Fetched: 10 row(s)\n"
     ]
    }
   ],
   "source": [
    "%%hive\n",
    "\n",
    "SELECT\n",
    "    fecha,\n",
    "    let\n",
    "FROM\n",
    "    dataTable\n",
    "LATERAL VIEW\n",
    "    explode(letra) dataTable AS let\n",
    "LIMIT 10;"
   ]
  },
  {
   "cell_type": "code",
   "execution_count": 37,
   "metadata": {},
   "outputs": [
    {
     "name": "stdout",
     "output_type": "stream",
     "text": [
      "DROP TABLE IF EXISTS wordCount; \n",
      "OK\n",
      "Time taken: 0.052 seconds\n",
      "CREATE TABLE wordCount (year STRING, clave STRING, valor INT);\n",
      "OK\n",
      "Time taken: 0.037 seconds\n",
      "INSERT OVERWRITE TABLE wordCount \n",
      "SELECT\n",
      "    fecha,\n",
      "    let,\n",
      "    1\n",
      "FROM\n",
      "    dataTable\n",
      "LATERAL VIEW\n",
      "    explode(letra) dataTable AS let;\n",
      "WARNING: Hive-on-MR is deprecated in Hive 2 and may not be available in the future versions. Consider using a different execution engine (i.e. spark, tez) or using Hive 1.X releases.\n",
      "Query ID = root_20200228012241_2fc0f71c-5781-49ca-9262-fcebf40602c8\n",
      "Total jobs = 3\n",
      "Launching Job 1 out of 3\n",
      "Number of reduce tasks is set to 0 since there's no reduce operator\n",
      "Starting Job = job_1582850386869_0007, Tracking URL = http://77b0213d6cab:8088/proxy/application_1582850386869_0007/\n",
      "Kill Command = /usr/local/hadoop/bin/hadoop job  -kill job_1582850386869_0007\n",
      "Hadoop job information for Stage-1: number of mappers: 1; number of reducers: 0\n",
      "2020-02-28 01:22:50,769 Stage-1 map = 0%,  reduce = 0%\n",
      "2020-02-28 01:22:57,363 Stage-1 map = 100%,  reduce = 0%, Cumulative CPU 3.11 sec\n",
      "MapReduce Total cumulative CPU time: 3 seconds 110 msec\n",
      "Ended Job = job_1582850386869_0007\n",
      "Stage-4 is selected by condition resolver.\n",
      "Stage-3 is filtered out by condition resolver.\n",
      "Stage-5 is filtered out by condition resolver.\n",
      "Moving data to directory hdfs://0.0.0.0:9000/user/hive/warehouse/wordcount/.hive-staging_hive_2020-02-28_01-22-41_584_938451180076818572-1/-ext-10000\n",
      "Loading data to table default.wordcount\n",
      "MapReduce Jobs Launched: \n",
      "Stage-Stage-1: Map: 1   Cumulative CPU: 3.11 sec   HDFS Read: 5859 HDFS Write: 380 SUCCESS\n",
      "Total MapReduce CPU Time Spent: 3 seconds 110 msec\n",
      "OK\n",
      "Time taken: 18.513 seconds\n"
     ]
    }
   ],
   "source": [
    "%%hive\n",
    "DROP TABLE IF EXISTS wordCount; \n",
    "\n",
    "CREATE TABLE wordCount (year STRING, clave STRING);\n",
    "\n",
    "INSERT OVERWRITE TABLE wordCount \n",
    "SELECT\n",
    "    fecha,\n",
    "    let\n",
    "FROM\n",
    "    dataTable\n",
    "LATERAL VIEW\n",
    "    explode(letra) dataTable AS let;"
   ]
  },
  {
   "cell_type": "code",
   "execution_count": 38,
   "metadata": {},
   "outputs": [
    {
     "name": "stdout",
     "output_type": "stream",
     "text": [
      "SELECT * FROM wordCount;\n",
      "OK\n",
      "2016\ta\t1\n",
      "2016\te\t1\n",
      "2016\tc\t1\n",
      "2016\td\t1\n",
      "2015\ta\t1\n",
      "2015\tc\t1\n",
      "2014\tb\t1\n",
      "2014\td\t1\n",
      "2016\ta\t1\n",
      "2016\tc\t1\n",
      "2016\te\t1\n",
      "2016\tb\t1\n",
      "2016\td\t1\n",
      "2016\td\t1\n",
      "2016\te\t1\n",
      "2016\tc\t1\n",
      "2018\ta\t1\n",
      "2018\td\t1\n",
      "2014\ta\t1\n",
      "2014\te\t1\n",
      "2014\td\t1\n",
      "2015\td\t1\n",
      "2015\ta\t1\n",
      "2015\tc\t1\n",
      "2015\te\t1\n",
      "2017\tb\t1\n",
      "2017\ta\t1\n",
      "2017\tc\t1\n",
      "2017\te\t1\n",
      "2015\tc\t1\n",
      "2015\td\t1\n",
      "2015\te\t1\n",
      "2015\ta\t1\n",
      "2015\tb\t1\n",
      "Time taken: 0.147 seconds, Fetched: 34 row(s)\n"
     ]
    }
   ],
   "source": [
    "%%hive \n",
    "SELECT * FROM wordCount;"
   ]
  },
  {
   "cell_type": "code",
   "execution_count": 45,
   "metadata": {},
   "outputs": [
    {
     "name": "stdout",
     "output_type": "stream",
     "text": [
      "DROP TABLE IF EXISTS word_counts_2;\n",
      "OK\n",
      "Time taken: 0.006 seconds\n",
      "CREATE TABLE word_counts_2\n",
      "AS\n",
      "    SELECT year, clave, count(1) AS count\n",
      "    FROM\n",
      "        wordCount\n",
      "GROUP BY\n",
      "    year, clave;\n",
      "WARNING: Hive-on-MR is deprecated in Hive 2 and may not be available in the future versions. Consider using a different execution engine (i.e. spark, tez) or using Hive 1.X releases.\n",
      "Query ID = root_20200228012835_8e3d02c7-6fff-46f9-89f2-ec4d03e49977\n",
      "Total jobs = 1\n",
      "Launching Job 1 out of 1\n",
      "Number of reduce tasks not specified. Estimated from input data size: 1\n",
      "In order to change the average load for a reducer (in bytes):\n",
      "  set hive.exec.reducers.bytes.per.reducer=<number>\n",
      "In order to limit the maximum number of reducers:\n",
      "  set hive.exec.reducers.max=<number>\n",
      "In order to set a constant number of reducers:\n",
      "  set mapreduce.job.reduces=<number>\n",
      "Starting Job = job_1582850386869_0010, Tracking URL = http://77b0213d6cab:8088/proxy/application_1582850386869_0010/\n",
      "Kill Command = /usr/local/hadoop/bin/hadoop job  -kill job_1582850386869_0010\n",
      "Hadoop job information for Stage-1: number of mappers: 1; number of reducers: 1\n",
      "2020-02-28 01:28:45,390 Stage-1 map = 0%,  reduce = 0%\n",
      "2020-02-28 01:28:51,934 Stage-1 map = 100%,  reduce = 0%, Cumulative CPU 2.15 sec\n",
      "2020-02-28 01:28:58,469 Stage-1 map = 100%,  reduce = 100%, Cumulative CPU 4.34 sec\n",
      "MapReduce Total cumulative CPU time: 4 seconds 340 msec\n",
      "Ended Job = job_1582850386869_0010\n",
      "Moving data to directory hdfs://0.0.0.0:9000/user/hive/warehouse/word_counts_2\n",
      "MapReduce Jobs Launched: \n",
      "Stage-Stage-1: Map: 1  Reduce: 1   Cumulative CPU: 4.34 sec   HDFS Read: 8512 HDFS Write: 258 SUCCESS\n",
      "Total MapReduce CPU Time Spent: 4 seconds 340 msec\n",
      "OK\n",
      "Time taken: 24.488 seconds\n"
     ]
    }
   ],
   "source": [
    "%%hive \n",
    "DROP TABLE IF EXISTS word_counts_2;\n",
    "CREATE TABLE word_counts_2\n",
    "AS\n",
    "    SELECT year, clave, count(1) AS count\n",
    "    FROM\n",
    "        wordCount\n",
    "GROUP BY\n",
    "    year, clave;"
   ]
  },
  {
   "cell_type": "code",
   "execution_count": 46,
   "metadata": {},
   "outputs": [
    {
     "name": "stdout",
     "output_type": "stream",
     "text": [
      "SELECT * FROM word_counts_2;\n",
      "OK\n",
      "2014\ta\t1\n",
      "2014\tb\t1\n",
      "2014\td\t2\n",
      "2014\te\t1\n",
      "2015\ta\t3\n",
      "2015\tb\t1\n",
      "2015\tc\t3\n",
      "2015\td\t2\n",
      "2015\te\t2\n",
      "2016\ta\t2\n",
      "2016\tb\t1\n",
      "2016\tc\t3\n",
      "2016\td\t3\n",
      "2016\te\t3\n",
      "2017\ta\t1\n",
      "2017\tb\t1\n",
      "2017\tc\t1\n",
      "2017\te\t1\n",
      "2018\ta\t1\n",
      "2018\td\t1\n",
      "Time taken: 0.149 seconds, Fetched: 20 row(s)\n"
     ]
    }
   ],
   "source": [
    "%%hive \n",
    "SELECT * FROM word_counts_2;"
   ]
  },
  {
   "cell_type": "code",
   "execution_count": 1,
   "metadata": {},
   "outputs": [
    {
     "name": "stderr",
     "output_type": "stream",
     "text": [
      "UsageError: Line magic function `%hive_quit` not found.\n"
     ]
    }
   ],
   "source": [
    "%hive_quit"
   ]
  },
  {
   "cell_type": "code",
   "execution_count": 2,
   "metadata": {},
   "outputs": [
    {
     "name": "stdout",
     "output_type": "stream",
     "text": [
      "Found 4 items\n",
      "drwxrwx---   - root supergroup          0 2020-02-28 10:38 /tmp/hadoop-yarn\n",
      "drwxrwxrwx   - root supergroup          0 2020-02-28 10:51 /tmp/hive\n",
      "drwxrwxrwx   - root supergroup          0 2020-02-28 13:11 /tmp/output\n",
      "drwxr-xr-x   - root supergroup          0 2020-02-28 11:35 /tmp/wordcount\n"
     ]
    }
   ],
   "source": [
    "## Copia Archivos a sistema HDFS\n",
    "##\n",
    "## Se usan un directorio temporal en el HDFS. La siguiente\n",
    "## instrucción muestra el contenido del dicho directorio\n",
    "##\n",
    "!hdfs dfs -ls /tmp"
   ]
  },
  {
   "cell_type": "code",
   "execution_count": 3,
   "metadata": {},
   "outputs": [
    {
     "name": "stdout",
     "output_type": "stream",
     "text": [
      "mkdir: `/tmp/wordcount': File exists\n"
     ]
    }
   ],
   "source": [
    "## Crea la carpeta wordcount en el hdfs\n",
    "##\n",
    "!hdfs dfs -mkdir /tmp/wordcount"
   ]
  },
  {
   "cell_type": "code",
   "execution_count": 4,
   "metadata": {},
   "outputs": [
    {
     "name": "stdout",
     "output_type": "stream",
     "text": [
      "Found 4 items\n",
      "drwxrwx---   - root supergroup          0 2020-02-28 10:38 /tmp/hadoop-yarn\n",
      "drwxrwxrwx   - root supergroup          0 2020-02-28 10:51 /tmp/hive\n",
      "drwxrwxrwx   - root supergroup          0 2020-02-28 13:11 /tmp/output\n",
      "drwxr-xr-x   - root supergroup          0 2020-02-28 11:35 /tmp/wordcount\n"
     ]
    }
   ],
   "source": [
    "## Verifica la creación de la carpeta\n",
    "##\n",
    "!hdfs dfs -ls /tmp/"
   ]
  },
  {
   "cell_type": "code",
   "execution_count": 5,
   "metadata": {},
   "outputs": [
    {
     "name": "stdout",
     "output_type": "stream",
     "text": [
      "copyFromLocal: `data.tsv': No such file or directory\n"
     ]
    }
   ],
   "source": [
    "## Copia los archvios del directorio local wordcount/\n",
    "## al directorio /tmp/wordcount/ en el hdfs\n",
    "##\n",
    "!hdfs dfs -copyFromLocal 'data.tsv'  /tmp/wordcount/"
   ]
  },
  {
   "cell_type": "code",
   "execution_count": 6,
   "metadata": {},
   "outputs": [],
   "source": [
    "##\n",
    "## Verifica que los archivos esten copiados\n",
    "## en el hdfs\n",
    "##\n",
    "!hdfs dfs -ls /tmp/wordcount"
   ]
  },
  {
   "cell_type": "code",
   "execution_count": 7,
   "metadata": {},
   "outputs": [],
   "source": [
    "####################################################################################################################\n",
    "## Generación del script y ajuste del código"
   ]
  },
  {
   "cell_type": "code",
   "execution_count": 8,
   "metadata": {},
   "outputs": [
    {
     "name": "stdout",
     "output_type": "stream",
     "text": [
      "Overwriting wordcount.hql\n"
     ]
    }
   ],
   "source": [
    "%%writefile wordcount.hql\n",
    "\n",
    "DROP TABLE IF EXISTS tbl0;\n",
    "CREATE TABLE tbl0 (\n",
    "    c1 INT,\n",
    "    c2 STRING,\n",
    "    c3 INT,\n",
    "    c4 DATE,\n",
    "    c5 ARRAY<CHAR(1)>, \n",
    "    c6 MAP<STRING, INT>\n",
    ")\n",
    "ROW FORMAT DELIMITED \n",
    "FIELDS TERMINATED BY ','\n",
    "COLLECTION ITEMS TERMINATED BY ':'\n",
    "MAP KEYS TERMINATED BY '#'\n",
    "LINES TERMINATED BY '\\n';\n",
    "LOAD DATA LOCAL INPATH 'tbl0.csv' INTO TABLE tbl0;\n",
    "--\n",
    "DROP TABLE IF EXISTS tbl1;\n",
    "CREATE TABLE tbl1 (\n",
    "    c1 INT,\n",
    "    c2 INT,\n",
    "    c3 STRING,\n",
    "    c4 MAP<STRING, INT>\n",
    ")\n",
    "ROW FORMAT DELIMITED \n",
    "FIELDS TERMINATED BY ','\n",
    "COLLECTION ITEMS TERMINATED BY ':'\n",
    "MAP KEYS TERMINATED BY '#'\n",
    "LINES TERMINATED BY '\\n';\n",
    "LOAD DATA LOCAL INPATH 'tbl1.csv' INTO TABLE tbl1;\n",
    "\n",
    "DROP TABLE IF EXISTS dataTable; \n",
    "CREATE TABLE dataTable (fecha STRING, letra ARRAY<CHAR(1)>);\n",
    "INSERT OVERWRITE TABLE dataTable \n",
    "SELECT \n",
    "    SUBSTR(c4, 1, 4) AS fecha,\n",
    "    c5 AS letra\n",
    "FROM\n",
    "    tbl0;\n",
    "    \n",
    "DROP TABLE IF EXISTS wordCount; \n",
    "CREATE TABLE wordCount (year STRING, clave STRING);\n",
    "INSERT OVERWRITE TABLE wordCount \n",
    "SELECT\n",
    "    fecha,\n",
    "    let\n",
    "FROM\n",
    "    dataTable\n",
    "LATERAL VIEW\n",
    "    explode(letra) dataTable AS let;  \n",
    "    \n",
    "\n",
    "DROP TABLE IF EXISTS word_counts_2;\n",
    "CREATE TABLE word_counts_2\n",
    "AS\n",
    "    SELECT year, clave, count(1) AS count\n",
    "    FROM\n",
    "        wordCount\n",
    "GROUP BY\n",
    "    year, clave;  \n",
    "\n",
    "INSERT OVERWRITE DIRECTORY '/tmp/output'\n",
    "ROW FORMAT DELIMITED FIELDS TERMINATED BY ','\n",
    "\n",
    "SELECT * FROM word_counts_2;"
   ]
  },
  {
   "cell_type": "code",
   "execution_count": 9,
   "metadata": {},
   "outputs": [
    {
     "name": "stdout",
     "output_type": "stream",
     "text": [
      "SLF4J: Class path contains multiple SLF4J bindings.\n",
      "SLF4J: Found binding in [jar:file:/usr/local/hive/lib/log4j-slf4j-impl-2.6.2.jar!/org/slf4j/impl/StaticLoggerBinder.class]\n",
      "SLF4J: Found binding in [jar:file:/usr/local/hadoop/share/hadoop/common/lib/slf4j-log4j12-1.7.10.jar!/org/slf4j/impl/StaticLoggerBinder.class]\n",
      "SLF4J: See http://www.slf4j.org/codes.html#multiple_bindings for an explanation.\n",
      "SLF4J: Actual binding is of type [org.apache.logging.slf4j.Log4jLoggerFactory]\n"
     ]
    }
   ],
   "source": [
    "## Ejecucion\n",
    "!hive -S -e 'source wordcount.hql'"
   ]
  },
  {
   "cell_type": "code",
   "execution_count": 10,
   "metadata": {},
   "outputs": [
    {
     "name": "stdout",
     "output_type": "stream",
     "text": [
      "output/000000_0\n"
     ]
    }
   ],
   "source": [
    "## Copia de los resultados a la maquina local (vagrant)\n",
    "!hadoop fs -copyToLocal /tmp/output output\n",
    "!ls output/*"
   ]
  },
  {
   "cell_type": "code",
   "execution_count": 11,
   "metadata": {},
   "outputs": [
    {
     "name": "stdout",
     "output_type": "stream",
     "text": [
      "2014,a,1\n",
      "2014,b,1\n",
      "2014,d,2\n",
      "2014,e,1\n",
      "2015,a,3\n",
      "2015,b,1\n",
      "2015,c,3\n",
      "2015,d,2\n",
      "2015,e,2\n",
      "2016,a,2\n"
     ]
    }
   ],
   "source": [
    "!cat output/000000_0 | head"
   ]
  },
  {
   "cell_type": "code",
   "execution_count": null,
   "metadata": {},
   "outputs": [],
   "source": []
  },
  {
   "cell_type": "code",
   "execution_count": null,
   "metadata": {},
   "outputs": [],
   "source": []
  },
  {
   "cell_type": "code",
   "execution_count": null,
   "metadata": {},
   "outputs": [],
   "source": []
  }
 ],
 "metadata": {
  "kernelspec": {
   "display_name": "Python 3",
   "language": "python",
   "name": "python3"
  },
  "language_info": {
   "codemirror_mode": {
    "name": "ipython",
    "version": 3
   },
   "file_extension": ".py",
   "mimetype": "text/x-python",
   "name": "python",
   "nbconvert_exporter": "python",
   "pygments_lexer": "ipython3",
   "version": "3.6.9"
  }
 },
 "nbformat": 4,
 "nbformat_minor": 4
}
