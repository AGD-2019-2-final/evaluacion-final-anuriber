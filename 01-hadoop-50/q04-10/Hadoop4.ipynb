{
 "cells": [
  {
   "cell_type": "code",
   "execution_count": 90,
   "metadata": {},
   "outputs": [
    {
     "name": "stdout",
     "output_type": "stream",
     "text": [
      "Overwriting mapper.py\n"
     ]
    }
   ],
   "source": [
    "%%writefile mapper.py\n",
    "import sys\n",
    "#\n",
    "# >>> Escriba el codigo del mapper a partir de este punto <<<\n",
    "#\n",
    "if __name__ == \"__main__\":\n",
    "    for line in sys.stdin:\n",
    "        columna1 = \"\"\n",
    "        columna2 = \"\"\n",
    "        columna3 = \"\"\n",
    "        line = line.strip()\n",
    "        #print(line)\n",
    "        splits = line.split(\"  \")\n",
    "        #print(len(splits))\n",
    "        #print(splits[1])\n",
    "        if len(splits) != 2: # Transactions have more columns than users\n",
    "            columna1 = splits[0]\n",
    "            columna2 = splits[1] \n",
    "            columna3 = splits[2]\n",
    "        print(columna2 + '\\t' + columna1 + '\\t' + columna3)"
   ]
  },
  {
   "cell_type": "code",
   "execution_count": 91,
   "metadata": {},
   "outputs": [],
   "source": [
    "!chmod +x mapper.py"
   ]
  },
  {
   "cell_type": "code",
   "execution_count": 92,
   "metadata": {},
   "outputs": [
    {
     "name": "stdout",
     "output_type": "stream",
     "text": [
      " 1985-02-12\tE\t 16\n",
      " 1988-04-27\tA\t 12\n",
      " 1990-02-09\tE\t 18\n",
      " 1990-05-03\tE\t 16\n",
      " 1990-07-22\tA\t 18\n",
      " 1990-08-31\tA\t 12\n",
      " 1990-09-05\tA\t 11\n",
      " 1990-09-26\tA\t 14\n",
      " 1990-10-06\tA\t 10\n",
      " 1990-10-10\tD\t 15\n",
      " 1991-02-12\tC\t 13\n",
      " 1991-02-18\tE\t 14\n",
      " 1991-10-01\tB\t 15\n",
      " 1992-08-22\tA\t 14\n",
      " 1992-09-19\tA\t 18\n",
      " 1993-01-11\tA\t 14\n",
      " 1993-01-27\tE\t 13\n",
      " 1993-03-02\tB\t 14\n",
      " 1993-05-08\tA\t 16\n",
      " 1993-07-21\tE\t 17\n",
      " 1993-12-27\tE\t 18\n",
      " 1994-01-25\tC\t 10\n",
      " 1994-02-14\tE\t 10\n",
      " 1994-07-27\tC\t 10\n",
      " 1994-08-30\tB\t 17\n",
      " 1994-09-09\tC\t 15\n",
      " 1994-10-25\tA\t 13\n",
      " 1995-04-25\tE\t 16\n",
      " 1995-08-23\tB\t 10\n",
      " 1995-09-06\tB\t 14\n",
      " 1997-04-09\tB\t 14\n",
      " 1997-12-15\tA\t 13\n",
      " 1998-09-14\tE\t 16\n",
      " 1998-11-22\tB\t 13\n",
      " 1999-01-14\tE\t 15\n",
      " 1999-06-11\tB\t 12\n",
      " 1999-08-28\tB\t 14\n",
      " 1999-09-10\tE\t 11\n",
      " 1999-10-21\tB\t 13\n",
      " 1999-12-06\tE\t 12\n"
     ]
    }
   ],
   "source": [
    "!cat data.csv | python3 mapper.py | sort"
   ]
  },
  {
   "cell_type": "code",
   "execution_count": 93,
   "metadata": {},
   "outputs": [
    {
     "name": "stdout",
     "output_type": "stream",
     "text": [
      "Overwriting reducer.py\n"
     ]
    }
   ],
   "source": [
    "%%writefile reducer.py\n",
    "#!/usr/bin/env python\n",
    "\n",
    "import sys\n",
    "if __name__ == '__main__':\n",
    "\n",
    "    for line in sys.stdin:\n",
    "\n",
    "        key, val1,val2 = line.split(\"\\t\")\n",
    "        \n",
    "        sys.stdout.write(\"{},{},{}\\n\".format(val1, key.strip(), val2.rstrip('\\n').strip()))"
   ]
  },
  {
   "cell_type": "code",
   "execution_count": 94,
   "metadata": {},
   "outputs": [],
   "source": [
    "!chmod +x reducer.py"
   ]
  },
  {
   "cell_type": "code",
   "execution_count": 95,
   "metadata": {},
   "outputs": [
    {
     "name": "stdout",
     "output_type": "stream",
     "text": [
      "E,1985-02-12,16\n",
      "A,1988-04-27,12\n",
      "E,1990-02-09,18\n",
      "E,1990-05-03,16\n",
      "A,1990-07-22,18\n",
      "A,1990-08-31,12\n",
      "A,1990-09-05,11\n",
      "A,1990-09-26,14\n",
      "A,1990-10-06,10\n",
      "D,1990-10-10,15\n",
      "C,1991-02-12,13\n",
      "E,1991-02-18,14\n",
      "B,1991-10-01,15\n",
      "A,1992-08-22,14\n",
      "A,1992-09-19,18\n",
      "A,1993-01-11,14\n",
      "E,1993-01-27,13\n",
      "B,1993-03-02,14\n",
      "A,1993-05-08,16\n",
      "E,1993-07-21,17\n",
      "E,1993-12-27,18\n",
      "C,1994-01-25,10\n",
      "E,1994-02-14,10\n",
      "C,1994-07-27,10\n",
      "B,1994-08-30,17\n",
      "C,1994-09-09,15\n",
      "A,1994-10-25,13\n",
      "E,1995-04-25,16\n",
      "B,1995-08-23,10\n",
      "B,1995-09-06,14\n",
      "B,1997-04-09,14\n",
      "A,1997-12-15,13\n",
      "E,1998-09-14,16\n",
      "B,1998-11-22,13\n",
      "E,1999-01-14,15\n",
      "B,1999-06-11,12\n",
      "B,1999-08-28,14\n",
      "E,1999-09-10,11\n",
      "B,1999-10-21,13\n",
      "E,1999-12-06,12\n"
     ]
    }
   ],
   "source": [
    "!cat data.csv | python3 mapper.py | sort | python3 reducer.py"
   ]
  },
  {
   "cell_type": "code",
   "execution_count": null,
   "metadata": {},
   "outputs": [],
   "source": []
  }
 ],
 "metadata": {
  "kernelspec": {
   "display_name": "Python 3",
   "language": "python",
   "name": "python3"
  },
  "language_info": {
   "codemirror_mode": {
    "name": "ipython",
    "version": 3
   },
   "file_extension": ".py",
   "mimetype": "text/x-python",
   "name": "python",
   "nbconvert_exporter": "python",
   "pygments_lexer": "ipython3",
   "version": "3.6.9"
  }
 },
 "nbformat": 4,
 "nbformat_minor": 4
}
