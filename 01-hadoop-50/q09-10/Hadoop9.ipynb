{
 "cells": [
  {
   "cell_type": "code",
   "execution_count": 4,
   "metadata": {},
   "outputs": [
    {
     "name": "stdout",
     "output_type": "stream",
     "text": [
      "Overwriting mapper.py\n"
     ]
    }
   ],
   "source": [
    "%%writefile mapper.py\n",
    "import sys\n",
    "#\n",
    "# >>> Escriba el codigo del mapper a partir de este punto <<<\n",
    "#\n",
    "if __name__ == \"__main__\":\n",
    "    for line in sys.stdin:\n",
    "        columna1 = \"\"\n",
    "        columna2 = \"\"\n",
    "        columna3 = \"\"\n",
    "        line = line.strip()\n",
    "        #print(line)\n",
    "        splits = line.split(\"  \")\n",
    "        #print(len(splits))\n",
    "        #print(splits[1])\n",
    "        if len(splits) != 2: # Transactions have more columns than users\n",
    "            columna1 = splits[0]\n",
    "            columna2 = splits[1] \n",
    "            columna3 = splits[2]\n",
    "        print(columna3 + '\\t' + columna2 + '\\t' + columna1)"
   ]
  },
  {
   "cell_type": "code",
   "execution_count": 5,
   "metadata": {},
   "outputs": [],
   "source": [
    "!chmod +x mapper.py"
   ]
  },
  {
   "cell_type": "code",
   "execution_count": 6,
   "metadata": {},
   "outputs": [
    {
     "name": "stdout",
     "output_type": "stream",
     "text": [
      " 1\t 1994-07-27\tC\n",
      " 10\t 1990-10-06\tA\n",
      " 10\t 1994-01-25\tC\n",
      " 101\t 1994-02-14\tE\n",
      " 101\t 1995-08-23\tB\n",
      " 11\t 1990-09-05\tA\n",
      " 11\t 1999-09-10\tE\n",
      " 12\t 1990-08-31\tA\n",
      " 12\t 1999-06-11\tB\n",
      " 121\t 1999-12-06\tE\n",
      " 13\t 1994-10-25\tA\n",
      " 13\t 1997-12-15\tA\n",
      " 13\t 1998-11-22\tB\n",
      " 131\t 1999-10-21\tB\n",
      " 14\t 1991-02-18\tE\n",
      " 14\t 1992-08-22\tA\n",
      " 14\t 1993-03-02\tB\n",
      " 14\t 1999-08-28\tB\n",
      " 141\t 1993-01-11\tA\n",
      " 141\t 1995-09-06\tB\n",
      " 15\t 1999-01-14\tE\n",
      " 151\t 1990-10-10\tD\n",
      " 151\t 1991-10-01\tB\n",
      " 151\t 1994-09-09\tC\n",
      " 16\t 1985-02-12\tE\n",
      " 16\t 1990-05-03\tE\n",
      " 16\t 1993-05-08\tA\n",
      " 161\t 1995-04-25\tE\n",
      " 17\t 1993-07-21\tE\n",
      " 17\t 1994-08-30\tB\n",
      " 18\t 1990-02-09\tE\n",
      " 18\t 1992-09-19\tA\n",
      " 181\t 1993-12-27\tE\n",
      " 2\t 1991-02-12\tC\n",
      " 4\t 1990-07-22\tA\n",
      " 5\t 1990-09-26\tA\n",
      " 6\t 1997-04-09\tB\n",
      " 7\t 1998-09-14\tE\n",
      " 8\t 1993-01-27\tE\n",
      " 9\t 1988-04-27\tA\n"
     ]
    }
   ],
   "source": [
    "!cat data.csv | python3 mapper.py |sort"
   ]
  },
  {
   "cell_type": "code",
   "execution_count": 7,
   "metadata": {},
   "outputs": [
    {
     "name": "stdout",
     "output_type": "stream",
     "text": [
      "Overwriting reducer.py\n"
     ]
    }
   ],
   "source": [
    "%%writefile reducer.py\n",
    "#!/usr/bin/env python\n",
    "\n",
    "import sys\n",
    "if __name__ == '__main__':\n",
    "\n",
    "    for line in sys.stdin:\n",
    "\n",
    "        key, val1, val2 = line.split(\"\\t\")\n",
    "        key= int(key)\n",
    "        if key == 1 or key == 2 or key == 4 or key == 5 or key == 6:\n",
    "            sys.stdout.write(\"{}\\t{}\\t{}\\n\".format(val2.rstrip(), val1, key ))\n",
    "      "
   ]
  },
  {
   "cell_type": "code",
   "execution_count": 8,
   "metadata": {},
   "outputs": [],
   "source": [
    "!chmod +x  reducer.py"
   ]
  },
  {
   "cell_type": "code",
   "execution_count": 9,
   "metadata": {},
   "outputs": [
    {
     "name": "stdout",
     "output_type": "stream",
     "text": [
      "C\t 1994-07-27\t1\n",
      "C\t 1991-02-12\t2\n",
      "A\t 1990-07-22\t4\n",
      "A\t 1990-09-26\t5\n",
      "B\t 1997-04-09\t6\n"
     ]
    }
   ],
   "source": [
    "!cat data.csv | python3 mapper.py | sort | python3 reducer.py"
   ]
  },
  {
   "cell_type": "code",
   "execution_count": null,
   "metadata": {},
   "outputs": [],
   "source": []
  }
 ],
 "metadata": {
  "kernelspec": {
   "display_name": "Python 3",
   "language": "python",
   "name": "python3"
  },
  "language_info": {
   "codemirror_mode": {
    "name": "ipython",
    "version": 3
   },
   "file_extension": ".py",
   "mimetype": "text/x-python",
   "name": "python",
   "nbconvert_exporter": "python",
   "pygments_lexer": "ipython3",
   "version": "3.6.9"
  }
 },
 "nbformat": 4,
 "nbformat_minor": 4
}
