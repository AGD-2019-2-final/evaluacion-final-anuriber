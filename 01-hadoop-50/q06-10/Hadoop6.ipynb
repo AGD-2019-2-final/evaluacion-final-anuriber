{
 "cells": [
  {
   "cell_type": "code",
   "execution_count": 45,
   "metadata": {},
   "outputs": [
    {
     "name": "stdout",
     "output_type": "stream",
     "text": [
      "Overwriting mapper.py\n"
     ]
    }
   ],
   "source": [
    "%%writefile mapper.py\n",
    "import sys\n",
    "#\n",
    "# >>> Escriba el codigo del mapper a partir de este punto <<<\n",
    "#\n",
    "if __name__ == \"__main__\":\n",
    "    for line in sys.stdin:\n",
    "        columna1 = \"\"\n",
    "        columna2 = \"\"\n",
    "        columna3 = \"\"\n",
    "        line = line.strip()\n",
    "        #print(line)\n",
    "        splits = line.split(\"  \")\n",
    "        #print(len(splits))\n",
    "        #print(splits[1])\n",
    "        if len(splits) != 2: # Transactions have more columns than users\n",
    "            columna1 = splits[0]\n",
    "            columna2 = splits[1] \n",
    "            columna3 = splits[2]\n",
    "        print(columna1 + '\\t' + columna3)"
   ]
  },
  {
   "cell_type": "code",
   "execution_count": 46,
   "metadata": {},
   "outputs": [],
   "source": [
    "!chmod +x mapper.py"
   ]
  },
  {
   "cell_type": "code",
   "execution_count": 47,
   "metadata": {},
   "outputs": [
    {
     "name": "stdout",
     "output_type": "stream",
     "text": [
      "A\t 10.7\n",
      "A\t 11.0\n",
      "A\t 12.6\n",
      "A\t 12.6\n",
      "A\t 13.1\n",
      "A\t 13.6\n",
      "A\t 14.5\n",
      "A\t 14.8\n",
      "A\t 14.9\n",
      "A\t 16.8\n",
      "A\t 18.2\n",
      "A\t 18.4\n",
      "B\t 10.7\n",
      "B\t 12.1\n",
      "B\t 13.5\n",
      "B\t 13.8\n",
      "B\t 14.1\n",
      "B\t 14.4\n",
      "B\t 14.7\n",
      "B\t 14.9\n",
      "B\t 15.0\n",
      "B\t 17.0\n",
      "C\t 10.2\n",
      "C\t 10.7\n",
      "C\t 13.8\n",
      "C\t 15.3\n",
      "D\t 15.1\n",
      "E\t 10.5\n",
      "E\t 11.3\n",
      "E\t 12.2\n",
      "E\t 13.2\n",
      "E\t 14.6\n",
      "E\t 15.3\n",
      "E\t 16.4\n",
      "E\t 16.8\n",
      "E\t 16.9\n",
      "E\t 16.9\n",
      "E\t 17.0\n",
      "E\t 18.4\n",
      "E\t 18.8\n"
     ]
    }
   ],
   "source": [
    "!cat data.csv | python3 mapper.py | sort"
   ]
  },
  {
   "cell_type": "code",
   "execution_count": 62,
   "metadata": {},
   "outputs": [
    {
     "name": "stdout",
     "output_type": "stream",
     "text": [
      "Overwriting reducer.py\n"
     ]
    }
   ],
   "source": [
    "%%writefile reducer.py\n",
    "#!/usr/bin/env python\n",
    "\n",
    "import sys\n",
    "if __name__ == '__main__':\n",
    "\n",
    "    curkey = None\n",
    "    total1 = 0\n",
    "    total2 = 0\n",
    "\n",
    "    for line in sys.stdin:\n",
    "\n",
    "        key, val = line.split(\"\\t\")\n",
    "        val = float(val)\n",
    "\n",
    "        if key == curkey:\n",
    "            \n",
    "            if total1 > val:\n",
    "                total1 = total1\n",
    "            else:\n",
    "                 total1 = val\n",
    "                    \n",
    "            if total2 < val:\n",
    "                total2 = total2\n",
    "            else:\n",
    "                 total2 = val\n",
    "        else:\n",
    "            \n",
    "            if curkey is not None:\n",
    "                \n",
    "                sys.stdout.write(\"{}\\t{}\\t{}\\n\".format(curkey, total1, total2))\n",
    "\n",
    "            curkey = key\n",
    "            total1 = val\n",
    "            total2 = val\n",
    "\n",
    "    sys.stdout.write(\"{}\\t{}\\t{}\\n\".format(curkey, total1, total2))"
   ]
  },
  {
   "cell_type": "code",
   "execution_count": 63,
   "metadata": {},
   "outputs": [],
   "source": [
    "!chmod +x  reducer.py"
   ]
  },
  {
   "cell_type": "code",
   "execution_count": 64,
   "metadata": {},
   "outputs": [
    {
     "name": "stdout",
     "output_type": "stream",
     "text": [
      "A\t18.4\t10.7\n",
      "B\t17.0\t10.7\n",
      "C\t15.3\t10.2\n",
      "D\t15.1\t15.1\n",
      "E\t18.8\t10.5\n"
     ]
    }
   ],
   "source": [
    "!cat data.csv | python3 mapper.py | sort | python3 reducer.py"
   ]
  },
  {
   "cell_type": "code",
   "execution_count": null,
   "metadata": {},
   "outputs": [],
   "source": []
  }
 ],
 "metadata": {
  "kernelspec": {
   "display_name": "Python 3",
   "language": "python",
   "name": "python3"
  },
  "language_info": {
   "codemirror_mode": {
    "name": "ipython",
    "version": 3
   },
   "file_extension": ".py",
   "mimetype": "text/x-python",
   "name": "python",
   "nbconvert_exporter": "python",
   "pygments_lexer": "ipython3",
   "version": "3.6.9"
  }
 },
 "nbformat": 4,
 "nbformat_minor": 4
}
