{
 "cells": [
  {
   "cell_type": "code",
   "execution_count": 287,
   "metadata": {},
   "outputs": [
    {
     "name": "stdout",
     "output_type": "stream",
     "text": [
      "Overwriting mapper.py\n"
     ]
    }
   ],
   "source": [
    "%%writefile mapper.py\n",
    "import sys\n",
    "#\n",
    "# >>> Escriba el codigo del mapper a partir de este punto <<<\n",
    "#\n",
    "if __name__ == \"__main__\":\n",
    "    for line in sys.stdin:\n",
    "        columna1 = \"\"\n",
    "        columna2 = \"\"\n",
    "        columna3 = \"\"\n",
    "        line = line.strip()\n",
    "        #print(line)\n",
    "        splits = line.split(\"  \")\n",
    "        #print(len(splits))\n",
    "        #print(splits[1])\n",
    "        if len(splits) != 2: # Transactions have more columns than users\n",
    "            columna1 = splits[0]\n",
    "            columna2 = splits[1] \n",
    "            columna3 = splits[2]\n",
    "        print(columna1 + '\\t' + columna2 + '\\t' + columna3)"
   ]
  },
  {
   "cell_type": "code",
   "execution_count": 288,
   "metadata": {},
   "outputs": [],
   "source": [
    "!chmod +x mapper.py"
   ]
  },
  {
   "cell_type": "code",
   "execution_count": 289,
   "metadata": {},
   "outputs": [
    {
     "name": "stdout",
     "output_type": "stream",
     "text": [
      "A\t 1988-04-27\t 121\n",
      "A\t 1990-07-22\t 0\n",
      "A\t 1990-08-31\t 12\n",
      "A\t 1990-09-05\t 11\n",
      "A\t 1990-09-26\t 8\n",
      "A\t 1990-10-06\t 10\n",
      "A\t 1992-08-22\t 16\n",
      "A\t 1992-09-19\t 9\n",
      "A\t 1993-01-11\t 15\n",
      "A\t 1993-05-08\t 17\n",
      "A\t 1994-10-25\t 14\n",
      "A\t 1997-12-15\t 13\n",
      "B\t 1991-10-01\t 9\n",
      "B\t 1993-03-02\t 16\n",
      "B\t 1994-08-30\t 18\n",
      "B\t 1995-08-23\t 1\n",
      "B\t 1995-09-06\t 15\n",
      "B\t 1997-04-09\t 14\n",
      "B\t 1998-11-22\t 131\n",
      "B\t 1999-06-11\t 121\n",
      "B\t 1999-08-28\t 17\n",
      "B\t 1999-10-21\t 13\n",
      "C\t 1991-02-12\t 13\n",
      "C\t 1994-01-25\t 10\n",
      "C\t 1994-07-27\t 104\n",
      "C\t 1994-09-09\t 15\n",
      "D\t 1990-10-10\t 15\n",
      "E\t 1985-02-12\t 17\n",
      "E\t 1990-02-09\t 18\n",
      "E\t 1990-05-03\t 16\n",
      "E\t 1991-02-18\t 141\n",
      "E\t 1993-01-27\t 9\n",
      "E\t 1993-07-21\t 4\n",
      "E\t 1993-12-27\t 19\n",
      "E\t 1994-02-14\t 10\n",
      "E\t 1995-04-25\t 3\n",
      "E\t 1998-09-14\t 2\n",
      "E\t 1999-01-14\t 15\n",
      "E\t 1999-09-10\t 11\n",
      "E\t 1999-12-06\t 12\n"
     ]
    }
   ],
   "source": [
    "!cat data.csv | python3 mapper.py | sort "
   ]
  },
  {
   "cell_type": "code",
   "execution_count": 290,
   "metadata": {},
   "outputs": [
    {
     "name": "stdout",
     "output_type": "stream",
     "text": [
      "Overwriting reducer.py\n"
     ]
    }
   ],
   "source": [
    "%%writefile reducer.py\n",
    "#!/usr/bin/env python\n",
    "\n",
    "import sys\n",
    "if __name__ == '__main__':\n",
    "\n",
    "    curkey = None\n",
    "    listakey = []\n",
    "    listafecha = []\n",
    "    listaval = []\n",
    "\n",
    "    for line in sys.stdin:\n",
    "\n",
    "        key, fecha, val = line.split(\"\\t\")\n",
    "        val = int(val)\n",
    "\n",
    "        if key == curkey:\n",
    "            listakey.append(key)\n",
    "            listafecha.append(fecha)\n",
    "            listaval.append(val)\n",
    "        else:\n",
    "            if curkey is not None:\n",
    "                \n",
    "                sl = sorted(listaval)\n",
    "                lista2 = []\n",
    "                for x in sl:\n",
    "                    lista2.append(listaval.index(x))\n",
    "                for y in lista2:\n",
    "                    sys.stdout.write(\"{}\\t{}\\t{}\\n\".format(listakey[y], listafecha[y], listaval[y]))\n",
    "\n",
    "                \n",
    "                \n",
    "                \n",
    "            curkey = key\n",
    "            listakey = [key]\n",
    "            listafecha = [fecha]\n",
    "            listaval = [val] \n",
    "   \n",
    "\n",
    "    sl = sorted(listaval)\n",
    "    lista2 = []\n",
    "    for x in sl:\n",
    "        lista2.append(listaval.index(x))\n",
    "    for y in lista2:\n",
    "        sys.stdout.write(\"{}\\t{}\\t{}\\n\".format(listakey[y], listafecha[y], listaval[y]))\n",
    "            "
   ]
  },
  {
   "cell_type": "code",
   "execution_count": 291,
   "metadata": {},
   "outputs": [],
   "source": [
    "!chmod +x  reducer.py"
   ]
  },
  {
   "cell_type": "code",
   "execution_count": 292,
   "metadata": {},
   "outputs": [
    {
     "name": "stdout",
     "output_type": "stream",
     "text": [
      "A\t 1990-07-22\t0\n",
      "A\t 1990-09-26\t8\n",
      "A\t 1992-09-19\t9\n",
      "A\t 1990-10-06\t10\n",
      "A\t 1990-09-05\t11\n",
      "A\t 1990-08-31\t12\n",
      "A\t 1997-12-15\t13\n",
      "A\t 1994-10-25\t14\n",
      "A\t 1993-01-11\t15\n",
      "A\t 1992-08-22\t16\n",
      "A\t 1993-05-08\t17\n",
      "A\t 1988-04-27\t121\n",
      "B\t 1995-08-23\t1\n",
      "B\t 1991-10-01\t9\n",
      "B\t 1999-10-21\t13\n",
      "B\t 1997-04-09\t14\n",
      "B\t 1995-09-06\t15\n",
      "B\t 1993-03-02\t16\n",
      "B\t 1999-08-28\t17\n",
      "B\t 1994-08-30\t18\n",
      "B\t 1999-06-11\t121\n",
      "B\t 1998-11-22\t131\n",
      "C\t 1994-01-25\t10\n",
      "C\t 1991-02-12\t13\n",
      "C\t 1994-09-09\t15\n",
      "C\t 1994-07-27\t104\n",
      "D\t 1990-10-10\t15\n",
      "E\t 1998-09-14\t2\n",
      "E\t 1995-04-25\t3\n",
      "E\t 1993-07-21\t4\n",
      "E\t 1993-01-27\t9\n",
      "E\t 1994-02-14\t10\n",
      "E\t 1999-09-10\t11\n",
      "E\t 1999-12-06\t12\n",
      "E\t 1999-01-14\t15\n",
      "E\t 1990-05-03\t16\n",
      "E\t 1985-02-12\t17\n",
      "E\t 1990-02-09\t18\n",
      "E\t 1993-12-27\t19\n",
      "E\t 1991-02-18\t141\n"
     ]
    }
   ],
   "source": [
    "!cat data.csv | python3 mapper.py | sort | python3 reducer.py"
   ]
  },
  {
   "cell_type": "code",
   "execution_count": null,
   "metadata": {},
   "outputs": [],
   "source": []
  }
 ],
 "metadata": {
  "kernelspec": {
   "display_name": "Python 3",
   "language": "python",
   "name": "python3"
  },
  "language_info": {
   "codemirror_mode": {
    "name": "ipython",
    "version": 3
   },
   "file_extension": ".py",
   "mimetype": "text/x-python",
   "name": "python",
   "nbconvert_exporter": "python",
   "pygments_lexer": "ipython3",
   "version": "3.6.9"
  }
 },
 "nbformat": 4,
 "nbformat_minor": 4
}
