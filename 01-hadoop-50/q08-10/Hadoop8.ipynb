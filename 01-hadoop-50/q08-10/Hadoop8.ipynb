{
 "cells": [
  {
   "cell_type": "code",
   "execution_count": 4,
   "metadata": {},
   "outputs": [
    {
     "name": "stdout",
     "output_type": "stream",
     "text": [
      "Overwriting mapper.py\n"
     ]
    }
   ],
   "source": [
    "%%writefile mapper.py\n",
    "import sys\n",
    "#\n",
    "# >>> Escriba el codigo del mapper a partir de este punto <<<\n",
    "#\n",
    "if __name__ == \"__main__\":\n",
    "    for line in sys.stdin:\n",
    "        columna1 = \"\"\n",
    "        columna2 = \"\"\n",
    "        columna3 = \"\"\n",
    "        line = line.strip()\n",
    "        #print(line)\n",
    "        splits = line.split(\"  \")\n",
    "        #print(len(splits))\n",
    "        #print(splits[1])\n",
    "        if len(splits) != 2: # Transactions have more columns than users\n",
    "            columna1 = splits[0]\n",
    "            columna2 = splits[1] \n",
    "            columna3 = splits[2]\n",
    "        print(columna1 + '\\t' + columna3)"
   ]
  },
  {
   "cell_type": "code",
   "execution_count": 5,
   "metadata": {},
   "outputs": [],
   "source": [
    "!chmod +x mapper.py"
   ]
  },
  {
   "cell_type": "code",
   "execution_count": 7,
   "metadata": {},
   "outputs": [
    {
     "name": "stdout",
     "output_type": "stream",
     "text": [
      "A\t 10\n",
      "A\t 11\n",
      "A\t 12\n",
      "A\t 12\n",
      "A\t 13\n",
      "A\t 13\n",
      "A\t 14\n",
      "A\t 14\n",
      "A\t 14\n",
      "A\t 16\n",
      "A\t 18\n",
      "A\t 18\n",
      "B\t 10\n",
      "B\t 12\n",
      "B\t 13\n",
      "B\t 13\n",
      "B\t 14\n",
      "B\t 14\n",
      "B\t 14\n",
      "B\t 14\n",
      "B\t 15\n",
      "B\t 17\n",
      "C\t 10\n",
      "C\t 10\n",
      "C\t 13\n",
      "C\t 15\n",
      "D\t 15\n",
      "E\t 10\n",
      "E\t 11\n",
      "E\t 12\n",
      "E\t 13\n",
      "E\t 14\n",
      "E\t 15\n",
      "E\t 16\n",
      "E\t 16\n",
      "E\t 16\n",
      "E\t 16\n",
      "E\t 17\n",
      "E\t 18\n",
      "E\t 18\n"
     ]
    }
   ],
   "source": [
    "!cat data.csv | python3 mapper.py | sort"
   ]
  },
  {
   "cell_type": "code",
   "execution_count": 124,
   "metadata": {},
   "outputs": [
    {
     "name": "stdout",
     "output_type": "stream",
     "text": [
      "Overwriting reducer.py\n"
     ]
    }
   ],
   "source": [
    "%%writefile reducer.py\n",
    "#!/usr/bin/env python\n",
    "\n",
    "import sys\n",
    "if __name__ == '__main__':\n",
    "\n",
    "    curkey = None\n",
    "    suma = 0\n",
    "    promedio = 0\n",
    "    cont=0\n",
    "    \n",
    "    for line in sys.stdin:\n",
    "\n",
    "        key, val = line.split(\"\\t\")\n",
    "        val = float(val)\n",
    "        \n",
    "        \n",
    "        if key == curkey:\n",
    "            suma+=val\n",
    "            #print (suma, cont)\n",
    "            cont = cont + 1     \n",
    "            \n",
    "        else:\n",
    "            \n",
    "            if curkey is not None:\n",
    "                \n",
    "                promedio = suma / cont\n",
    "                sys.stdout.write(\"{}\\t{}\\t{}\\n\".format(curkey, suma, promedio))\n",
    "                \n",
    "            cont=1\n",
    "            curkey = key\n",
    "            suma = val\n",
    "            \n",
    "    promedio = suma / cont\n",
    "    sys.stdout.write(\"{}\\t{}\\t{}\\n\".format(curkey, suma, promedio))"
   ]
  },
  {
   "cell_type": "code",
   "execution_count": 125,
   "metadata": {},
   "outputs": [],
   "source": [
    "!chmod +x  reducer.py"
   ]
  },
  {
   "cell_type": "code",
   "execution_count": 126,
   "metadata": {},
   "outputs": [
    {
     "name": "stdout",
     "output_type": "stream",
     "text": [
      "A\t165.0\t13.75\n",
      "B\t136.0\t13.6\n",
      "C\t48.0\t12.0\n",
      "D\t15.0\t15.0\n",
      "E\t192.0\t14.76923076923077\n"
     ]
    }
   ],
   "source": [
    "!cat data.csv | python3 mapper.py | sort | python3 reducer.py"
   ]
  }
 ],
 "metadata": {
  "kernelspec": {
   "display_name": "Python 3",
   "language": "python",
   "name": "python3"
  },
  "language_info": {
   "codemirror_mode": {
    "name": "ipython",
    "version": 3
   },
   "file_extension": ".py",
   "mimetype": "text/x-python",
   "name": "python",
   "nbconvert_exporter": "python",
   "pygments_lexer": "ipython3",
   "version": "3.6.9"
  }
 },
 "nbformat": 4,
 "nbformat_minor": 4
}
